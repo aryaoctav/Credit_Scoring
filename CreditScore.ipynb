{
 "cells": [
  {
   "cell_type": "markdown",
   "id": "b5277562-f07f-4b21-81b2-bf4bd8234300",
   "metadata": {},
   "source": [
    "# <center> CREDIT SCORING"
   ]
  },
  {
   "cell_type": "markdown",
   "id": "0d8797f0-25e4-4e36-9901-2567fd7d685e",
   "metadata": {},
   "source": [
    "<CENTER> -by Arya Octavian"
   ]
  },
  {
   "cell_type": "markdown",
   "id": "5349873f-e736-43a2-978c-ddb67a094737",
   "metadata": {},
   "source": [
    "------"
   ]
  },
  {
   "cell_type": "markdown",
   "id": "1768ecf1-6cb9-4d32-9643-b0fc68476ae3",
   "metadata": {},
   "source": [
    "# IMPORTING DATA"
   ]
  },
  {
   "cell_type": "markdown",
   "id": "23c4a352-3a9e-4e4d-96af-40a78e90b761",
   "metadata": {},
   "source": [
    "## Libraries"
   ]
  },
  {
   "cell_type": "code",
   "execution_count": null,
   "id": "b9b951de-093c-4af5-81d5-5d5cba650a4a",
   "metadata": {},
   "outputs": [],
   "source": [
    "import pandas as pd\n",
    "pd.set_option('display.max_columns', None)\n",
    "pd.set_option('display.max_rows', 99)\n",
    "import numpy as np\n",
    "\n",
    "import matplotlib\n",
    "import matplotlib.pyplot as plt\n",
    "import matplotlib.font_manager as fm\n",
    "from matplotlib.ticker import FuncFormatter\n",
    "import seaborn as sns\n",
    "\n",
    "import warnings\n",
    "warnings.filterwarnings('ignore')"
   ]
  },
  {
   "cell_type": "code",
   "execution_count": null,
   "id": "c878f836-a858-47cd-954e-6dd71050786b",
   "metadata": {},
   "outputs": [],
   "source": [
    "from matplotlib import rcParams\n",
    "\n",
    "matplotlib.rcParams['font.family'] = 'Tw Cen MT'\n",
    "rcParams['figure.figsize'] = (12, 8)\n",
    "rcParams['lines.linewidth'] = 3\n",
    "rcParams['axes.titlesize'] = 'x-large'\n",
    "rcParams['xtick.labelsize'] = 'medium'\n",
    "rcParams['ytick.labelsize'] = 'medium'\n",
    "rcParams['axes.facecolor'] = '1'"
   ]
  },
  {
   "cell_type": "markdown",
   "id": "5d2335a8-3141-4e6a-92e6-6482a0e6462b",
   "metadata": {},
   "source": [
    "## Datasets"
   ]
  },
  {
   "cell_type": "code",
   "execution_count": null,
   "id": "f7f87350-1578-4b4f-9f7b-98ab0bd294e4",
   "metadata": {},
   "outputs": [],
   "source": [
    "df_raw_train = pd.read_csv(\"train.csv\")\n",
    "df_raw_train"
   ]
  },
  {
   "cell_type": "code",
   "execution_count": null,
   "id": "748e9670-060f-482f-9a74-a89ca974ff57",
   "metadata": {},
   "outputs": [],
   "source": [
    "df_raw_test = pd.read_csv(\"test.csv\")\n",
    "df_raw_test"
   ]
  },
  {
   "cell_type": "markdown",
   "id": "d14c4bca-1f75-4973-88b8-f47ea1fea158",
   "metadata": {},
   "source": [
    "### Datasets Properties"
   ]
  },
  {
   "cell_type": "code",
   "execution_count": null,
   "id": "dd4c62e6-1c11-4f5c-aaf8-e2f1a1b8c3b0",
   "metadata": {},
   "outputs": [],
   "source": [
    "print('raw train:', df_raw_train.shape)\n",
    "print('raw test:', df_raw_test.shape)"
   ]
  },
  {
   "cell_type": "code",
   "execution_count": null,
   "id": "14ca1df9-4d0e-4237-bbcf-5a3bae8cad9e",
   "metadata": {},
   "outputs": [],
   "source": [
    "print('-' * 50)\n",
    "display(df_raw_train.info())\n",
    "print('=' * 50)\n",
    "display(df_raw_test.info())\n",
    "print('-' * 50)"
   ]
  },
  {
   "cell_type": "markdown",
   "id": "8019e236-864e-4691-acd7-ddeaba451b86",
   "metadata": {},
   "source": [
    "- It can be confirmed that the `Credit_Score` feature is the target for the machine learning to be created."
   ]
  },
  {
   "cell_type": "code",
   "execution_count": null,
   "id": "1c83b77c-592a-4ab0-8381-3b75289e7057",
   "metadata": {},
   "outputs": [],
   "source": [
    "print('-' * 50)\n",
    "print(\"Train Data Describe:\")\n",
    "display(df_raw_train.describe())\n",
    "print('=' * 50)\n",
    "print(\"Test Data Describe:\")\n",
    "display(df_raw_test.describe())\n",
    "print('-' * 50)"
   ]
  },
  {
   "cell_type": "markdown",
   "id": "386a7aae-57c7-4444-95a8-9d4b437e01a3",
   "metadata": {},
   "source": [
    "Note:\n",
    "- There are unusual values in the `Num_Bank_Accounts` feature, namely (-). This is suspected to be due to human error or representation of Null values.\n",
    "- The data will be cleaned in the upcoming steps."
   ]
  },
  {
   "cell_type": "code",
   "execution_count": null,
   "id": "e5a6da29-24a3-48c1-afde-10e2683e2c15",
   "metadata": {},
   "outputs": [],
   "source": [
    "print('-' * 50)\n",
    "print(\"Train Data Categorical Columns Describe:\")\n",
    "display(df_raw_train.describe(include=['object']).T)\n",
    "print('=' * 50)\n",
    "print(\"Test Data Categorical Columns Describe:\")\n",
    "display(df_raw_test.describe(include=['object']).T)\n",
    "print('-' * 50)"
   ]
  },
  {
   "cell_type": "markdown",
   "id": "66ec2262-75ed-43c1-8249-6031a0721487",
   "metadata": {},
   "source": [
    "Note:\n",
    "- There are many unusual values in some categorical columns, such as excessive use of symbols. Of course, those values will be deleted or replaced with other values.\n",
    "- The data will be cleaned in the upcoming steps."
   ]
  },
  {
   "cell_type": "code",
   "execution_count": null,
   "id": "e343f5bc-08fb-4e5b-93b1-6b1a1f03c592",
   "metadata": {},
   "outputs": [],
   "source": [
    "num_different_cols = sum(df_raw_train.columns[:-1] != df_raw_test.columns)\n",
    "num_different_cols"
   ]
  },
  {
   "cell_type": "markdown",
   "id": "74a73402-24a2-41ed-96c1-50f461ef18a2",
   "metadata": {},
   "source": [
    "- The output above indicates the number, names, and data types of columns that have no differences."
   ]
  },
  {
   "cell_type": "markdown",
   "id": "539443cb-44e8-4cba-ab8a-c29b47680e5a",
   "metadata": {},
   "source": [
    "# DATA CLEANING"
   ]
  },
  {
   "cell_type": "markdown",
   "id": "8eaa90d1-f7cc-4179-acc1-eb1118aef99a",
   "metadata": {},
   "source": [
    "To expedite the data cleaning process, the dataset and training data will be merged first. The data can be separated later considering that the test data in the evaluation process will still be taken from the train dataset, NOT from the test dataset which has null `Credit_Score` target features."
   ]
  },
  {
   "cell_type": "code",
   "execution_count": null,
   "id": "16195740-fe14-4b22-8fc6-08251231dccb",
   "metadata": {},
   "outputs": [],
   "source": [
    "df = pd.concat([df_raw_train, df_raw_test], ignore_index=True)\n",
    "df.shape"
   ]
  },
  {
   "cell_type": "markdown",
   "id": "b88da3a6-37b4-4fa8-b424-9f8e6722c1e2",
   "metadata": {},
   "source": [
    "## Check Missing Values"
   ]
  },
  {
   "cell_type": "code",
   "execution_count": null,
   "id": "98e29533-72db-4643-bc30-ca39c46cbf18",
   "metadata": {
    "scrolled": true,
    "tags": []
   },
   "outputs": [],
   "source": [
    "df.isna().sum().sort_values(ascending=False)"
   ]
  },
  {
   "cell_type": "markdown",
   "id": "cb1ee32e-8f5a-423f-99cb-f0113aba6074",
   "metadata": {},
   "source": [
    "## Check Invalid Values in Object Datatype Columns"
   ]
  },
  {
   "cell_type": "code",
   "execution_count": null,
   "id": "f36f4dbf-ab35-4235-a77d-67bb9544433a",
   "metadata": {
    "scrolled": true,
    "tags": []
   },
   "outputs": [],
   "source": [
    "object_columns = df.select_dtypes(include=['object']).columns.tolist()\n",
    "object_columns"
   ]
  },
  {
   "cell_type": "code",
   "execution_count": null,
   "id": "1bffdb10-15e7-43fe-bacd-f69d5f8e0aa5",
   "metadata": {
    "scrolled": true,
    "tags": []
   },
   "outputs": [],
   "source": [
    "print(f\"Unique values by features\\n\")\n",
    "\n",
    "for object_unique in object_columns:\n",
    "    unique_values = df[object_unique].unique()\n",
    "    print(f\"{object_unique}:\\n {unique_values}\\n\")"
   ]
  },
  {
   "cell_type": "markdown",
   "id": "b67993b7-81dc-468c-b5c1-30a3aa7eb621",
   "metadata": {},
   "source": [
    "### Handling Invalid Values"
   ]
  },
  {
   "cell_type": "code",
   "execution_count": null,
   "id": "f39518cb-f335-48af-83f5-2173364226c9",
   "metadata": {
    "scrolled": true,
    "tags": []
   },
   "outputs": [],
   "source": [
    "df = df.applymap(lambda x: x if x is np.NaN or not isinstance(x, str) else str(x).strip('_ ,\"')).replace(['', 'nan', '!@9#%8', '#F%$D@*&8'], np.NaN)"
   ]
  },
  {
   "cell_type": "markdown",
   "id": "03973ec2-2e9d-48b1-a3b4-a496d5bff03b",
   "metadata": {},
   "source": [
    "- Check if the function above works properly."
   ]
  },
  {
   "cell_type": "code",
   "execution_count": null,
   "id": "b749f0f6-2d73-4d18-88b3-f95fd38ad4d6",
   "metadata": {},
   "outputs": [],
   "source": [
    "print('-' * 50)\n",
    "display(df_raw_test.loc[[49997]])\n",
    "display(df_raw_train.loc[[99999]])\n",
    "print('=' * 50)\n",
    "display(df.loc[[149997, 99999]])\n",
    "print('-' * 50)"
   ]
  },
  {
   "cell_type": "code",
   "execution_count": null,
   "id": "81efce9a-7793-4c4d-82ae-88a13b12c76b",
   "metadata": {},
   "outputs": [],
   "source": [
    "df.isna().sum().sort_values(ascending=False)"
   ]
  },
  {
   "cell_type": "markdown",
   "id": "5da59b0c-07d7-4317-9282-f621a6080395",
   "metadata": {},
   "source": [
    "- Before filling null values, it is very important to change the data type according to the real-world context."
   ]
  },
  {
   "cell_type": "markdown",
   "id": "3b69b8c2-be20-4121-8ad6-3cc6d816125f",
   "metadata": {},
   "source": [
    "## Changing Data Type"
   ]
  },
  {
   "cell_type": "code",
   "execution_count": null,
   "id": "0e03d278-7324-44a8-bbc3-d85eac6a16a2",
   "metadata": {},
   "outputs": [],
   "source": [
    "df.select_dtypes(include=['object']).info()"
   ]
  },
  {
   "cell_type": "markdown",
   "id": "0e11bcbe-5d17-4851-b676-a2a662fdbe54",
   "metadata": {},
   "source": [
    "<div style=\"text-align: left; width: 50%; display: inline-block;\">\n",
    "    <hr style=\"border: 1px solid white;\">\n",
    "</div>"
   ]
  },
  {
   "cell_type": "code",
   "execution_count": null,
   "id": "a07eadf0-fd0a-4210-85ea-7fedbe2fc153",
   "metadata": {},
   "outputs": [],
   "source": [
    "df['ID'].unique()"
   ]
  },
  {
   "cell_type": "markdown",
   "id": "c5c8d77e-43af-4787-92a0-061683ead238",
   "metadata": {},
   "source": [
    "- Values in the `ID` feature are strings in hexadecimal format, so they need to be converted to integers."
   ]
  },
  {
   "cell_type": "code",
   "execution_count": null,
   "id": "8015cc0f-04d6-427a-9681-ef2032fbb719",
   "metadata": {},
   "outputs": [],
   "source": [
    "df['ID'] = df['ID'].apply(lambda x : int(x, 16))\n",
    "df['ID'].unique()"
   ]
  },
  {
   "cell_type": "markdown",
   "id": "7b98441a-9c6b-4054-91a2-e3edf4fd165d",
   "metadata": {},
   "source": [
    "<div style=\"text-align: left; width: 50%; display: inline-block;\">\n",
    "    <hr style=\"border: 1px solid white;\">\n",
    "</div>"
   ]
  },
  {
   "cell_type": "code",
   "execution_count": null,
   "id": "d764af58-c9b0-4e7c-8d1a-81b396f9afd8",
   "metadata": {},
   "outputs": [],
   "source": [
    "df['Customer_ID'].unique()"
   ]
  },
  {
   "cell_type": "markdown",
   "id": "685c19cc-e431-46ad-9d84-73178547e2ed",
   "metadata": {},
   "source": [
    "- The value in the 'Customer_ID' feature is also in hexadecimal format, but with the prefix 'CUS_' added to it. Therefore, the prefix needs to be removed first using indexing."
   ]
  },
  {
   "cell_type": "code",
   "execution_count": null,
   "id": "12e5f189-e9b5-4571-bfb3-4d73b92c00af",
   "metadata": {},
   "outputs": [],
   "source": [
    "df['Customer_ID'] = df['Customer_ID'].apply(lambda x : int(x[4:], 16))\n",
    "df['Customer_ID'].unique()"
   ]
  },
  {
   "cell_type": "markdown",
   "id": "87bf3f67-ef65-4617-b922-8d9b5119805f",
   "metadata": {},
   "source": [
    "<div style=\"text-align: left; width: 50%; display: inline-block;\">\n",
    "    <hr style=\"border: 1px solid white;\">\n",
    "</div>"
   ]
  },
  {
   "cell_type": "code",
   "execution_count": null,
   "id": "5e571218-5ca8-471b-836c-8c3ffb270439",
   "metadata": {},
   "outputs": [],
   "source": [
    "df['Month'].unique()"
   ]
  },
  {
   "cell_type": "markdown",
   "id": "ca32e6f8-daae-4074-8595-5a1b291f6bb0",
   "metadata": {},
   "source": [
    "- Convert categorical values to numbers representing the order of the month in a year."
   ]
  },
  {
   "cell_type": "code",
   "execution_count": null,
   "id": "0207054c-b691-4c63-9c50-3334a68af1f5",
   "metadata": {},
   "outputs": [],
   "source": [
    "df['Month'] = pd.to_datetime(df['Month'], format='%B').dt.month\n",
    "df['Month'].unique()"
   ]
  },
  {
   "cell_type": "markdown",
   "id": "225e24d5-3745-4df6-83fb-2250ad0a7617",
   "metadata": {},
   "source": [
    "<div style=\"text-align: left; width: 50%; display: inline-block;\">\n",
    "    <hr style=\"border: 1px solid white;\">\n",
    "</div>"
   ]
  },
  {
   "cell_type": "code",
   "execution_count": null,
   "id": "e548eb96-5afc-4a82-9c52-4743a13ccb89",
   "metadata": {},
   "outputs": [],
   "source": [
    "df['Age'].unique()"
   ]
  },
  {
   "cell_type": "markdown",
   "id": "6cc010a8-526e-4a0c-99ef-3f2344cfce21",
   "metadata": {},
   "source": [
    "- The age values should be in integer format instead of string format."
   ]
  },
  {
   "cell_type": "code",
   "execution_count": null,
   "id": "1039b2d6-ad6c-4d48-b219-1343f1c79aa5",
   "metadata": {},
   "outputs": [],
   "source": [
    "df['Age'] = df.Age.astype(int)\n",
    "df['Age'].unique()"
   ]
  },
  {
   "cell_type": "markdown",
   "id": "6fbdfce2-e9de-4263-83a2-ae1eee0d024d",
   "metadata": {},
   "source": [
    "<div style=\"text-align: left; width: 50%; display: inline-block;\">\n",
    "    <hr style=\"border: 1px solid white;\">\n",
    "</div>"
   ]
  },
  {
   "cell_type": "code",
   "execution_count": null,
   "id": "44b4bf6e-51f1-4ad1-8fa8-3fa4b7b3ccdf",
   "metadata": {},
   "outputs": [],
   "source": [
    "df['SSN'].unique()"
   ]
  },
  {
   "cell_type": "markdown",
   "id": "237ad216-8e37-48df-854a-deea73558859",
   "metadata": {},
   "source": [
    "- Social Security Number (SSN) is one of the features in credit scoring dataset that refers to the national identification number used by United States citizens. This number is unique for each individual and is used by the US government to identify and track individual financial and tax information.\n",
    "- The values in the SSN feature will only remove the \"-\" symbol for ease of reading, while Null values will be left as is."
   ]
  },
  {
   "cell_type": "raw",
   "id": "2a7c3393-ad64-4923-8aaa-2abeb7b5241b",
   "metadata": {},
   "source": [
    "df['SSN'] = df['SSN'].apply(lambda x : x if x is np.NaN else int(str(x).replace('-', ''))).astype(float)\n",
    "df['SSN'].unique()"
   ]
  },
  {
   "cell_type": "code",
   "execution_count": null,
   "id": "0c996de8-3cf6-4d5f-9d5d-16497e9e2a57",
   "metadata": {},
   "outputs": [],
   "source": [
    "df['SSN'] = df['SSN'].apply(lambda x : str(x).replace('-', '') if pd.notnull(x) else x)\n",
    "df['SSN'].unique()"
   ]
  },
  {
   "cell_type": "markdown",
   "id": "8d895cd7-51d4-4eb3-b23e-126e77b66296",
   "metadata": {},
   "source": [
    "- For the SSN feature, it is left as an Object data type because its numerical values will lose their original meaning if it is converted to a float data type, and it cannot be converted to an integer data type because there are still NaN values present.\n",
    "- The NaN values will be filled in according to their respective groups and will be converted to integers in the subsequent steps."
   ]
  },
  {
   "cell_type": "markdown",
   "id": "acc4e9a6-29fa-422f-93bb-3ec2830d72ef",
   "metadata": {},
   "source": [
    "<div style=\"text-align: left; width: 50%; display: inline-block;\">\n",
    "    <hr style=\"border: 1px solid white;\">\n",
    "</div>"
   ]
  },
  {
   "cell_type": "code",
   "execution_count": null,
   "id": "aec0ef36-f707-4bae-951c-bb9430c5a0b3",
   "metadata": {},
   "outputs": [],
   "source": [
    "df['Annual_Income'] = df['Annual_Income'].astype(float)\n",
    "df['Num_of_Loan'] = df['Num_of_Loan'].astype(int)\n",
    "df['Num_of_Delayed_Payment'] = df['Num_of_Delayed_Payment'].astype(float)\n",
    "df['Changed_Credit_Limit'] = df['Changed_Credit_Limit'].astype(float)\n",
    "df['Outstanding_Debt'] = df['Outstanding_Debt'].astype(float)\n",
    "df['Amount_invested_monthly'] = df['Amount_invested_monthly'].astype(float)\n",
    "df['Monthly_Balance'] = df['Monthly_Balance'].astype(float)"
   ]
  },
  {
   "cell_type": "markdown",
   "id": "ee494afa-9de9-42e8-9a34-3fe8295a4e68",
   "metadata": {},
   "source": [
    "- The features above are clearly features that should be in numeric format."
   ]
  },
  {
   "cell_type": "code",
   "execution_count": null,
   "id": "9117380c-0291-418f-aeaf-a8cc50ad2612",
   "metadata": {},
   "outputs": [],
   "source": [
    "df.select_dtypes(include=['object']).info()"
   ]
  },
  {
   "cell_type": "markdown",
   "id": "edae4f51-82f7-4b26-9238-d1344bfb9c79",
   "metadata": {},
   "source": [
    "<div style=\"text-align: left; width: 50%; display: inline-block;\">\n",
    "    <hr style=\"border: 1px solid white;\">\n",
    "</div>"
   ]
  },
  {
   "cell_type": "markdown",
   "id": "bb1f7949-8600-4758-a93f-8ed9357403be",
   "metadata": {},
   "source": [
    "## Feature Engineering"
   ]
  },
  {
   "cell_type": "markdown",
   "id": "3397fbdd-1ff3-4252-b7b2-bd931dc43363",
   "metadata": {},
   "source": [
    "### `Credit_History_Age`"
   ]
  },
  {
   "cell_type": "code",
   "execution_count": null,
   "id": "ad52ad3c-ae85-4674-81c9-eeb388bb6769",
   "metadata": {
    "scrolled": true,
    "tags": []
   },
   "outputs": [],
   "source": [
    "df['Credit_History_Age'].unique()"
   ]
  },
  {
   "cell_type": "markdown",
   "id": "fa06109e-e89a-442a-9fba-59f86302d05c",
   "metadata": {},
   "source": [
    "- The `Credit_History_Age` feature will be converted into a month format."
   ]
  },
  {
   "cell_type": "code",
   "execution_count": null,
   "id": "1707d6e2-8061-400b-9336-4c01ad8160d4",
   "metadata": {},
   "outputs": [],
   "source": [
    "def Month_Converter(x):\n",
    "    if pd.notnull(x):\n",
    "        list_history = x.split(' ') # ['22', 'Years', 'and', '1', 'Months']\n",
    "        months = int(list_history[0])*12 + int(list_history[3]) # Taking index 0 and 3 and then adding them up based on the month format\n",
    "        return months\n",
    "    else:\n",
    "        return x"
   ]
  },
  {
   "cell_type": "code",
   "execution_count": null,
   "id": "2f573dab-02c2-4578-963b-648115a95262",
   "metadata": {
    "scrolled": true,
    "tags": []
   },
   "outputs": [],
   "source": [
    "df['Credit_History_Age'] = df['Credit_History_Age'].apply(lambda x : Month_Converter(x)).astype(float)\n",
    "df['Credit_History_Age'].unique()"
   ]
  },
  {
   "cell_type": "code",
   "execution_count": null,
   "id": "0c44a106-0068-4660-a85e-2f4738a8c000",
   "metadata": {},
   "outputs": [],
   "source": [
    "df.head(3)"
   ]
  },
  {
   "cell_type": "markdown",
   "id": "35a4ab1f-8dfc-4770-be35-e771130e73e5",
   "metadata": {},
   "source": [
    "### `Type_of_Loan`"
   ]
  },
  {
   "cell_type": "code",
   "execution_count": null,
   "id": "4f644a54-932f-4131-a146-4bc9fefabbd1",
   "metadata": {},
   "outputs": [],
   "source": [
    "df['Type_of_Loan'].unique()"
   ]
  },
  {
   "cell_type": "code",
   "execution_count": null,
   "id": "e6113542-6cc7-4ee7-a6d7-488e952820f9",
   "metadata": {},
   "outputs": [],
   "source": [
    "df.groupby('Customer_ID')['Type_of_Loan'].value_counts(dropna=False)"
   ]
  },
  {
   "cell_type": "code",
   "execution_count": null,
   "id": "339194b3-03a0-45be-b867-122c4e5b755d",
   "metadata": {},
   "outputs": [],
   "source": [
    "df.groupby('Customer_ID')['Type_of_Loan'].apply(list)"
   ]
  },
  {
   "cell_type": "code",
   "execution_count": null,
   "id": "7b8616c4-e702-461b-8fce-611d5fdeb2f6",
   "metadata": {},
   "outputs": [],
   "source": [
    "def get_Diff_Values_Colum(df_column, diff_value = []):   \n",
    "    column = df_column.dropna()\n",
    "    for i in column:\n",
    "        if ',' not in i and i not in diff_value:\n",
    "            diff_value.append(i)\n",
    "        else:\n",
    "            for data in map(lambda x:x.strip(), i.replace('and','').split(',')):\n",
    "                if not data in diff_value:\n",
    "                    diff_value.append(data)\n",
    "    return dict(enumerate(sorted(diff_value)))"
   ]
  },
  {
   "cell_type": "code",
   "execution_count": null,
   "id": "23442f91-0d0b-42c5-9ab2-9cc5321133f3",
   "metadata": {},
   "outputs": [],
   "source": [
    "get_Diff_Values_Colum(df['Type_of_Loan'])"
   ]
  },
  {
   "cell_type": "markdown",
   "id": "645a27f3-e51c-4897-8d03-2f8cfa160ac5",
   "metadata": {},
   "source": [
    "## Handling Missing Values - Categorical Datatype"
   ]
  },
  {
   "cell_type": "markdown",
   "id": "8bd144b8-2c91-4059-b4a7-924ce04f29d7",
   "metadata": {},
   "source": [
    "- It should be remembered that each set of 12 data represents a customer's credit performance in 12 months. Therefore, for some columns, the values should be the same. Hence, filling null values is based on personal customer grouping."
   ]
  },
  {
   "cell_type": "code",
   "execution_count": null,
   "id": "35994820-edbb-4bdf-8f66-0a3d8d232263",
   "metadata": {},
   "outputs": [],
   "source": [
    "df_object = df.select_dtypes(include=['object'])\n",
    "df_object.isna().sum().sort_values(ascending=False)"
   ]
  },
  {
   "cell_type": "markdown",
   "id": "2f9ecf5d-b06f-4ab2-b374-f268bf4f192a",
   "metadata": {},
   "source": [
    "<div style=\"text-align: left; width: 50%; display: inline-block;\">\n",
    "    <hr style=\"border: 1px solid white;\">\n",
    "</div>"
   ]
  },
  {
   "cell_type": "raw",
   "id": "f9209fff-d6e0-489f-9e00-70b797f06df5",
   "metadata": {},
   "source": [
    "# Reassign and Show Function\n",
    "def Reassign_Group_Object_NaN_Values(df, groupby, column, inplace=True):      \n",
    "    import scipy.stats as stats\n",
    "    # Assigning Wrong values Make Simple Function\n",
    "    def make_NaN_and_fill_mode(df, groupby, column, inplace=True):\n",
    "        # Assign None to np.NaN\n",
    "        if df[column].isin([None]).sum():\n",
    "            df[column][df[column].isin([None])] = np.NaN\n",
    "            \n",
    "        # fill with local mode\n",
    "        result = df.groupby(groupby)[column].transform(lambda x: x.fillna(stats.mode(x)[0][0]))\n",
    "\n",
    "        # inplace\n",
    "        if inplace:\n",
    "            df[column]=result\n",
    "        else:\n",
    "            return result\n",
    "    \n",
    "    # Run      \n",
    "    if inplace:  \n",
    "        # Before Assigning Wrong values      \n",
    "        x = df[column].value_counts(dropna=False).head(1)\n",
    "        print(f'\\nBefore Assigning NaN {column}:', [x if x.index[0] is np.NaN or x.index[0] is None else 'No NaN Value'] , end='\\n')\n",
    "        a = df.groupby(groupby)[column].apply(list) \n",
    "        print(f'\\nBefore Assigning Example {column}:\\n', *a.head().values, sep='\\n', end='\\n')\n",
    "        \n",
    "        # Assigning\n",
    "        make_NaN_and_fill_mode(df, groupby, column, inplace)\n",
    "        \n",
    "        # After Assigning Wrong values\n",
    "        y = df[column].value_counts(dropna=False).head(1)\n",
    "        print(f'\\nAfter Assigning NaN {column}:', [y if y.index[0] is np.NaN or x.index[0] is None else 'No NaN Value'] , end='\\n')\n",
    "        b = df.groupby(groupby)[column].apply(list)\n",
    "        print(f'\\nAfter Assigning Example {column}:\\n', *b.head().values, sep='\\n', end='\\n')\n",
    "    else:   \n",
    "        # Show\n",
    "        return make_NaN_and_fill_mode(df, groupby, column, inplace)"
   ]
  },
  {
   "cell_type": "markdown",
   "id": "e1653092-2e2e-4ce1-a65f-b0c6f92eb64b",
   "metadata": {},
   "source": [
    "- The function above is a function that I found on Kaggle with the source as follows: <p>\n",
    "https://www.kaggle.com/code/clkmuhammed/credit-score-classification-part-1-data-cleaning#A.-Reassign-Group-NaN-Values-in-Object-Column"
   ]
  },
  {
   "cell_type": "markdown",
   "id": "9b1a20de-b130-4119-a6f0-1123bed178f0",
   "metadata": {},
   "source": [
    "<div style=\"text-align: left; width: 50%; display: inline-block;\">\n",
    "    <hr style=\"border: 1px solid white;\">\n",
    "</div>"
   ]
  },
  {
   "cell_type": "code",
   "execution_count": null,
   "id": "13c8ee16-f9df-4449-b561-f7e4170a961f",
   "metadata": {},
   "outputs": [],
   "source": [
    "def fill_group_cats_nan(df, column, inplace=True):\n",
    "    \n",
    "    def fill_with_mode(df, column):\n",
    "        result = df.groupby('Customer_ID')[column].apply(lambda x : x.fillna(x.mode()[0]))\n",
    "        return result\n",
    "    \n",
    "    if inplace:  \n",
    "        \n",
    "        print('-' * 50)\n",
    "        before = df.groupby('Customer_ID')[column].apply(list) \n",
    "        print(f'\\nBefore Filling NaN {column}:\\n', *before.head().values, sep='\\n', end='\\n')\n",
    "        print('')\n",
    "        display(df[column].value_counts(dropna=False))\n",
    "    \n",
    "        df[column] = fill_with_mode(df, column)\n",
    "        \n",
    "        print('=' * 50)\n",
    "        after = df.groupby('Customer_ID')[column].apply(list)\n",
    "        print(f'\\nAfter Filling NaN {column}:\\n', *after.head().values, sep='\\n', end='\\n')\n",
    "        print('')\n",
    "        display(df[column].value_counts(dropna=False))\n",
    "        print('-' * 50)\n",
    "    \n",
    "    else:\n",
    "        return fill_with_mode(df, column)"
   ]
  },
  {
   "cell_type": "markdown",
   "id": "9e182d0f-b320-4fc8-96ec-eb1feb8e3207",
   "metadata": {},
   "source": [
    "- The code that I am going to use is the code that I created inspired by the code from the previous source to avoid plagiarism."
   ]
  },
  {
   "cell_type": "markdown",
   "id": "98e84f41-29fa-4897-acb0-27a61e2a012b",
   "metadata": {},
   "source": [
    "<div style=\"text-align: left; width: 50%; display: inline-block;\">\n",
    "    <hr style=\"border: 1px solid white;\">\n",
    "</div>"
   ]
  },
  {
   "cell_type": "markdown",
   "id": "dac325c1-0f13-4b52-84a0-e9489b5bb699",
   "metadata": {},
   "source": [
    "### `Credit_Mix`"
   ]
  },
  {
   "cell_type": "markdown",
   "id": "48407246-22a1-4f58-8ba8-77ac5e8ba8d3",
   "metadata": {},
   "source": [
    "- `Credit_Mix` refers to the variety or diversity of credit products or accounts that a borrower has in their credit history."
   ]
  },
  {
   "cell_type": "code",
   "execution_count": null,
   "id": "116c6696-e8b2-422b-9511-716f5b29b052",
   "metadata": {},
   "outputs": [],
   "source": [
    "fill_group_cats_nan(df,'Credit_Mix')"
   ]
  },
  {
   "cell_type": "markdown",
   "id": "3790a057-cfe6-4e88-985b-ec6f055db892",
   "metadata": {},
   "source": [
    "### `Type_of_Loan`"
   ]
  },
  {
   "cell_type": "markdown",
   "id": "2daef493-f391-449c-86c5-f6940b74b98f",
   "metadata": {},
   "source": [
    "- `Type_of_Loan` refers to the type of credit product or loan that the borrower has applied for or obtained.\n",
    "- For the Null value in the `Type_of_Loan` feature, it will be replaced with 'No Data' because a customer's loan type can change every month, so using the mode will not be suitable."
   ]
  },
  {
   "cell_type": "code",
   "execution_count": null,
   "id": "df39896e-473f-4dde-927b-ed31050ec0ae",
   "metadata": {},
   "outputs": [],
   "source": [
    "print('-' * 50)\n",
    "print('Before Replacing NaN:')\n",
    "display(df['Type_of_Loan'].value_counts(dropna=False))\n",
    "\n",
    "df['Type_of_Loan'].replace([np.NaN], 'No Data', inplace=True)\n",
    "print('=' * 50)\n",
    "print('After Replacing NaN:')\n",
    "display(df['Type_of_Loan'].value_counts(dropna=False))\n",
    "print('-' * 50)"
   ]
  },
  {
   "cell_type": "markdown",
   "id": "e1acd207-d411-4156-88f0-4628572efa5f",
   "metadata": {},
   "source": [
    "### `Name`"
   ]
  },
  {
   "cell_type": "markdown",
   "id": "2a9c65aa-2213-49eb-b15e-5d8496119424",
   "metadata": {},
   "source": [
    "- `Name` refers to the name of the borrower or the lender who is associated with the credit account. "
   ]
  },
  {
   "cell_type": "code",
   "execution_count": null,
   "id": "07758255-6027-435a-9e38-d6708c491d25",
   "metadata": {},
   "outputs": [],
   "source": [
    "fill_group_cats_nan(df,'Name')"
   ]
  },
  {
   "cell_type": "markdown",
   "id": "518b0f4c-a01d-4118-926b-93c10b7600bd",
   "metadata": {},
   "source": [
    "### `Payment_Behaviour`"
   ]
  },
  {
   "cell_type": "markdown",
   "id": "3589451d-6494-4dad-9062-2a5e6650f232",
   "metadata": {},
   "source": [
    "- `Payment_Behaviour` refers to the borrower's payment history on their credit accounts."
   ]
  },
  {
   "cell_type": "code",
   "execution_count": null,
   "id": "3a2dc95f-f0e1-4032-b3c8-8b33f664bcbe",
   "metadata": {},
   "outputs": [],
   "source": [
    "fill_group_cats_nan(df,'Payment_Behaviour')"
   ]
  },
  {
   "cell_type": "markdown",
   "id": "32eb1a17-5610-46b3-a20e-ee43259d605a",
   "metadata": {},
   "source": [
    "### `Occupation`"
   ]
  },
  {
   "cell_type": "markdown",
   "id": "b3bcd3ee-5181-4a77-ba15-cd570baab7d4",
   "metadata": {},
   "source": [
    "- `Occupation` refers to the type of job or profession that the borrower has or the industry in which they work."
   ]
  },
  {
   "cell_type": "code",
   "execution_count": null,
   "id": "a74af142-554a-4244-961b-e076b41c851b",
   "metadata": {},
   "outputs": [],
   "source": [
    "fill_group_cats_nan(df,'Occupation')"
   ]
  },
  {
   "cell_type": "markdown",
   "id": "0bcdca0d-b8f9-47ef-a679-1afd5d16ddd0",
   "metadata": {},
   "source": [
    "### `SSN`"
   ]
  },
  {
   "cell_type": "markdown",
   "id": "d82fb0a7-db67-493a-bbe6-c832bc7be7f4",
   "metadata": {},
   "source": [
    "- `SSN` refers to the borrower's Social Security Number, a unique nine-digit identifier issued by the Social Security Administration (SSA) in the United States."
   ]
  },
  {
   "cell_type": "code",
   "execution_count": null,
   "id": "18be1cff-888c-4f1f-82ab-79997b157506",
   "metadata": {},
   "outputs": [],
   "source": [
    "fill_group_cats_nan(df,'SSN')"
   ]
  },
  {
   "cell_type": "markdown",
   "id": "dfdf650b-de96-4ed0-bf41-0953f9f2aca4",
   "metadata": {},
   "source": [
    "### `Payment_of_Min_Amount`"
   ]
  },
  {
   "cell_type": "markdown",
   "id": "120a358e-7071-4140-a1df-e075bc6c8edc",
   "metadata": {},
   "source": [
    "The feature `Payment_of_Min_Amount` indicates whether a customer has paid the minimum amount due on their monthly bill or not.\n",
    "- \"Yes\" = The customer has paid the minimum amount due,\n",
    "- \"No\" = The customer has not paid the minimum amount due, and\n",
    "- \"NM\" or \"No Data\" = The information is not available for that customer."
   ]
  },
  {
   "cell_type": "code",
   "execution_count": null,
   "id": "6b13d096-7639-4461-b832-624bcab81334",
   "metadata": {},
   "outputs": [],
   "source": [
    "df['Payment_of_Min_Amount'].value_counts(dropna=False)"
   ]
  },
  {
   "cell_type": "markdown",
   "id": "0f7809c3-06e8-4827-b4c2-f05b4a7b4f30",
   "metadata": {},
   "source": [
    "- Since this feature does not have any Null value, there is no need to apply any treatment."
   ]
  },
  {
   "cell_type": "markdown",
   "id": "34612471-9ebb-4c34-879c-661156819494",
   "metadata": {},
   "source": [
    "### Final Check - 1"
   ]
  },
  {
   "cell_type": "code",
   "execution_count": null,
   "id": "96c317f1-14c6-4b5d-bb50-4d1188e075fb",
   "metadata": {},
   "outputs": [],
   "source": [
    "df.select_dtypes(include=['object']).isna().sum().sort_values(ascending=False)"
   ]
  },
  {
   "cell_type": "markdown",
   "id": "016594d6-8688-4de7-98e1-45755eca9705",
   "metadata": {},
   "source": [
    "- From the output above, we know that there are no more missing values that need to be cleaned in categorical features. Note that for the `Credit_Score`feature, it is part of the test data so there is no need to clean its null values."
   ]
  },
  {
   "cell_type": "markdown",
   "id": "572b3e48-773f-47ea-b38c-f3efdad5b65f",
   "metadata": {},
   "source": [
    "## Handling Error and Missing Values - Numerical Datatype"
   ]
  },
  {
   "cell_type": "code",
   "execution_count": null,
   "id": "411a2691-0f56-4767-abc6-ccbe8c25d855",
   "metadata": {},
   "outputs": [],
   "source": [
    "df.select_dtypes(include=['int32','int64','float64']).isna().sum().sort_values(ascending=False)"
   ]
  },
  {
   "cell_type": "code",
   "execution_count": null,
   "id": "56c86139-edb3-4913-b894-49dcb7cc8b4b",
   "metadata": {},
   "outputs": [],
   "source": [
    "df.describe()"
   ]
  },
  {
   "cell_type": "markdown",
   "id": "47d68fd1-6d7d-42db-9d30-95114cbc915c",
   "metadata": {},
   "source": [
    "- From the above data, it appears that there are columns (`Age`, `Num_of_Delayed_Payment`, etc) with erroneous values, such as the minimum `Age` of customers being -500 and the maximum being 8698. Therefore, it is necessary to correct these values by aligning them with the values of their respective groups based on the `Customer_ID`."
   ]
  },
  {
   "cell_type": "markdown",
   "id": "8484be81-f434-46a3-a479-d0c4c9e9f225",
   "metadata": {},
   "source": [
    "df.to_excel('DC_ManualCheck.xlsx', index=False)"
   ]
  },
  {
   "cell_type": "markdown",
   "id": "178e4afe-419e-4d11-8d63-d37710c34221",
   "metadata": {},
   "source": [
    "<div style=\"text-align: left; width: 50%; display: inline-block;\">\n",
    "    <hr style=\"border: 1px solid white;\">\n",
    "</div>"
   ]
  },
  {
   "cell_type": "code",
   "execution_count": null,
   "id": "75fb534f-1210-482b-b519-13c5d4c37dc2",
   "metadata": {},
   "outputs": [],
   "source": [
    "# Reassign Wrong Values and Show Function\n",
    "def Reassign_Group_Numeric_Wrong_Values(df, groupby, column, inplace=True):      \n",
    "    import scipy.stats as stats \n",
    "\n",
    "    # Identify Wrong values Range\n",
    "    def get_group_min_max(df, groupby, column):            \n",
    "        cur = df[df[column].notna()].groupby(groupby)[column].apply(list)\n",
    "        x, y = cur.apply(lambda x: stats.mode(x)).apply([min, max])\n",
    "        return x[0][0], y[0][0]\n",
    "    \n",
    "    # Assigning Wrong values\n",
    "    def make_group_NaN_and_fill_mode(df, groupby, column, inplace=True):\n",
    "        df_dropped = df[df[column].notna()].groupby(groupby)[column].apply(list)\n",
    "        x, y = df_dropped.apply(lambda x: stats.mode(x)).apply([min, max])\n",
    "        mini, maxi = x[0][0], y[0][0]\n",
    "\n",
    "        # assign Wrong Values to NaN\n",
    "        col = df[column].apply(lambda x: np.NaN if ((x<mini)|(x>maxi)) else x)\n",
    "\n",
    "        # fill with local mode\n",
    "        mode_by_group = df.groupby(groupby)[column].transform(lambda x: x.mode()[0] if not x.mode().empty else np.NaN)\n",
    "        result = col.fillna(mode_by_group)\n",
    "\n",
    "        # inplace\n",
    "        if inplace:\n",
    "            df[column]=result\n",
    "        else:\n",
    "            return result\n",
    "        \n",
    "    \n",
    "    # Run      \n",
    "    if inplace:\n",
    "        print('=' * 50)\n",
    "        print(\"\\nExisting Min, Max Values:\", df[column].apply([min, max]).rename({'min': 'min:', 'max': 'max:'}), sep='\\n', end='\\n')\n",
    "        \n",
    "        mini, maxi = get_group_min_max(df, groupby, column)\n",
    "        \n",
    "        print('')\n",
    "        print('-' * 50)\n",
    "        print(f\"\\nGroupby by {groupby}'s Actual min, max Values:\", f'min:\\t{mini},\\nmax:\\t{ maxi}', sep='\\n', end='\\n')\n",
    "        print('')\n",
    "        print('=' * 50)\n",
    "        a = df.groupby(groupby)[column].apply(list) \n",
    "        print(f'\\nBefore Assigning Example {column}:\\n', *a.head().values, sep='\\n', end='\\n')\n",
    "        \n",
    "        # Assigning\n",
    "        make_group_NaN_and_fill_mode(df, groupby, column, inplace)\n",
    "        \n",
    "        print('')\n",
    "        print('-' * 50)\n",
    "        b = df.groupby(groupby)[column].apply(list)\n",
    "        print(f'\\nAfter Assigning Example {column}:\\n', *b.head().values, sep='\\n', end='\\n')\n",
    "        print('=' * 50)\n",
    "    else:   \n",
    "        # Show\n",
    "        return make_group_NaN_and_fill_mode(df, groupby, column, inplace)"
   ]
  },
  {
   "cell_type": "markdown",
   "id": "6a55c102-62ad-430d-8814-7a8e19838431",
   "metadata": {},
   "source": [
    "- The function above is a function that I found on Kaggle with the source as follows: <p>\n",
    "https://www.kaggle.com/code/clkmuhammed/credit-score-classification-part-1-data-cleaning#B.-Detect-Group-Min-Max-in-Numeric-Column-Reassign-NaN-Values"
   ]
  },
  {
   "cell_type": "markdown",
   "id": "76436f00-fbbb-40f1-8f78-262c633e8428",
   "metadata": {},
   "source": [
    "- Since I am not yet skilled enough to create complex code, I will use the code above. Although I do not fully understand some parts of this code, I still use it because the results are already in line with what I want. Of course, I will continue to improve my skills in the future to become a Data Scientist with advanced coding skills. Thank you."
   ]
  },
  {
   "cell_type": "markdown",
   "id": "7fab112f-1a9c-4491-a366-d404df016b9a",
   "metadata": {},
   "source": [
    "<div style=\"text-align: left; width: 50%; display: inline-block;\">\n",
    "    <hr style=\"border: 1px solid white;\">\n",
    "</div>"
   ]
  },
  {
   "cell_type": "markdown",
   "id": "25ca67e0-ccba-4d94-87c4-5f842c620454",
   "metadata": {},
   "source": [
    "### `Monthly_Inhand_Salary`"
   ]
  },
  {
   "cell_type": "markdown",
   "id": "d0e8f9db-6137-49f6-ac5e-4cad211e4eca",
   "metadata": {},
   "source": [
    "- `Monthly_Inhand_Salary` refers to the amount of money that the borrower earns each month after tax and other deductions have been taken out of their gross salary."
   ]
  },
  {
   "cell_type": "code",
   "execution_count": null,
   "id": "cea4ad52-7a7f-48c9-b98d-e7e782879324",
   "metadata": {},
   "outputs": [],
   "source": [
    "Reassign_Group_Numeric_Wrong_Values(df, 'Customer_ID', 'Monthly_Inhand_Salary')"
   ]
  },
  {
   "cell_type": "markdown",
   "id": "e9dbc7d5-68aa-4c4e-ac60-6c32161538ab",
   "metadata": {},
   "source": [
    "### `Credit_History_Age`"
   ]
  },
  {
   "cell_type": "markdown",
   "id": "875e87cc-3d76-463b-932b-a41578c74468",
   "metadata": {},
   "source": [
    "- `Credit_History_Age` refers to the length of time that the borrower has had credit accounts or loans in their credit history."
   ]
  },
  {
   "cell_type": "code",
   "execution_count": null,
   "id": "49e3229f-6901-46f5-b838-71f06dc1da86",
   "metadata": {},
   "outputs": [],
   "source": [
    "df['Credit_History_Age'].value_counts(dropna=False)"
   ]
  },
  {
   "cell_type": "code",
   "execution_count": null,
   "id": "d6cd538a-3c0c-4ee8-8312-e2d6255961a3",
   "metadata": {},
   "outputs": [],
   "source": [
    "df.groupby('Customer_ID')['Credit_History_Age'].value_counts(dropna=False)"
   ]
  },
  {
   "cell_type": "markdown",
   "id": "e15e07b8-ecfe-4c37-84cd-9b43a11c09ab",
   "metadata": {},
   "source": [
    "- As it is known that Credit_History_Age changes according to the month for each customer, filling Null values with Mode is not suitable.\n",
    "- The use of interpolation is suitable for filling in missing values in each customer group. Moreover, linear interpolation is very suitable for the context of credit history age according to the month. However, if interpolation still leaves missing values because the missing data is at the beginning or end of the data, the back fill and forward fill methods can be a solution.\n",
    "- The forward fill function will be executed first considering the context of the values in the column will continue to increase as the months change."
   ]
  },
  {
   "cell_type": "code",
   "execution_count": null,
   "id": "8a539431-e8da-4844-a43e-2db9c4c8098a",
   "metadata": {},
   "outputs": [],
   "source": [
    "df['Credit_History_Age'] = df.groupby('Customer_ID')['Credit_History_Age'].apply(lambda x : x.interpolate().ffill().bfill())"
   ]
  },
  {
   "cell_type": "markdown",
   "id": "e6536eb8-8fe4-494c-a4de-089e0600ad6a",
   "metadata": {},
   "source": [
    "### `Num_of_Delayed_Payment`"
   ]
  },
  {
   "cell_type": "markdown",
   "id": "f89d1dce-bd4e-4880-9d80-091eaebe170a",
   "metadata": {},
   "source": [
    "- `Num_of_Delayed_Payment` refers to the number of times that the borrower has made late payments on their credit accounts or loans. "
   ]
  },
  {
   "cell_type": "code",
   "execution_count": null,
   "id": "959b3c3c-94f3-4833-b43f-c30dda8dbb62",
   "metadata": {
    "scrolled": true,
    "tags": []
   },
   "outputs": [],
   "source": [
    "df['Num_of_Delayed_Payment'].value_counts()"
   ]
  },
  {
   "cell_type": "code",
   "execution_count": null,
   "id": "74b24e6a-ebe5-48ca-898e-3ca67a29cdd9",
   "metadata": {},
   "outputs": [],
   "source": [
    "Reassign_Group_Numeric_Wrong_Values(df, 'Customer_ID', 'Num_of_Delayed_Payment')"
   ]
  },
  {
   "cell_type": "markdown",
   "id": "e81e1d09-636c-4fb1-a280-9c5570cdbc04",
   "metadata": {},
   "source": [
    "### `Amount_invested_monthly `"
   ]
  },
  {
   "cell_type": "markdown",
   "id": "eb6bf629-1bf8-41f5-aa88-73ca07340fd0",
   "metadata": {},
   "source": [
    "- `Amount_invested_monthly` refers to the amount of money that a borrower invests in savings or other investment accounts each month."
   ]
  },
  {
   "cell_type": "code",
   "execution_count": null,
   "id": "080f3711-b64c-4f03-ac56-96de0c7d044a",
   "metadata": {},
   "outputs": [],
   "source": [
    "Reassign_Group_Numeric_Wrong_Values(df, 'Customer_ID', 'Amount_invested_monthly')"
   ]
  },
  {
   "cell_type": "markdown",
   "id": "95ecc3d2-4832-42a4-ad5a-d68c575f3745",
   "metadata": {},
   "source": [
    "- The above output shows that the `maximum` value of the feature `Amount_invested_monthly` is much larger compared to the other groups. Outliers like this can cause the data distribution to be skewed."
   ]
  },
  {
   "cell_type": "markdown",
   "id": "734a8e00-826c-4c84-8e5a-816e98dca3e4",
   "metadata": {},
   "source": [
    "### `Changed_Credit_Limit`"
   ]
  },
  {
   "cell_type": "markdown",
   "id": "c06fbfc8-58c2-4f4e-939c-e731a11bcd75",
   "metadata": {},
   "source": [
    "- `Changed_Credit_Limit` refers to any changes to a borrower's credit limit on their credit accounts or loans."
   ]
  },
  {
   "cell_type": "code",
   "execution_count": null,
   "id": "8c7e60d1-f210-4e6b-a352-1db0a3bad9fb",
   "metadata": {},
   "outputs": [],
   "source": [
    "Reassign_Group_Numeric_Wrong_Values(df, 'Customer_ID', 'Changed_Credit_Limit')"
   ]
  },
  {
   "cell_type": "markdown",
   "id": "ef280677-9113-40f6-b63e-58829a59914d",
   "metadata": {},
   "source": [
    "### `Num_Credit_Inquiries`"
   ]
  },
  {
   "cell_type": "markdown",
   "id": "2d124bb0-474d-4ead-8c76-a063ee6be3ca",
   "metadata": {},
   "source": [
    "- `Num_Credit_Inquiries` refers to the number of times that a borrower's credit report has been accessed by lenders or other entities to evaluate the borrower's creditworthiness."
   ]
  },
  {
   "cell_type": "code",
   "execution_count": null,
   "id": "6c2147a2-0638-4d3d-a312-a610a09f19db",
   "metadata": {},
   "outputs": [],
   "source": [
    "Reassign_Group_Numeric_Wrong_Values(df, 'Customer_ID', 'Num_Credit_Inquiries')"
   ]
  },
  {
   "cell_type": "markdown",
   "id": "17e1b665-305a-48ba-938f-b2fd01121b3b",
   "metadata": {},
   "source": [
    "### `Monthly_Balance`"
   ]
  },
  {
   "cell_type": "markdown",
   "id": "93e2f9e3-8c4d-4b06-a316-e956acf365da",
   "metadata": {},
   "source": [
    "- `Monthly_Balance` refers to the balance or amount owed by the borrower on their credit accounts or loans at the end of each month."
   ]
  },
  {
   "cell_type": "code",
   "execution_count": null,
   "id": "b02eddc2-0fca-4306-863e-94e39200144e",
   "metadata": {},
   "outputs": [],
   "source": [
    "Reassign_Group_Numeric_Wrong_Values(df, 'Customer_ID', 'Monthly_Balance')"
   ]
  },
  {
   "cell_type": "markdown",
   "id": "a8fa5d2d-b567-43d8-acbb-5ab4ba844eee",
   "metadata": {},
   "source": [
    "- The above output shows that the `minimum` value of the feature `Monthly_Balance` is much larger compared to the other groups. Outliers like this can cause the data distribution to be skewed."
   ]
  },
  {
   "cell_type": "markdown",
   "id": "0d658568-3650-4eda-b588-504936566fdd",
   "metadata": {},
   "source": [
    "### Final Check - 2"
   ]
  },
  {
   "cell_type": "code",
   "execution_count": null,
   "id": "d6661b90-fb8a-4071-8da3-d8bc96d6ebee",
   "metadata": {},
   "outputs": [],
   "source": [
    "df.select_dtypes(include=['int32','int64','float64']).isna().sum().sort_values(ascending=False)"
   ]
  },
  {
   "cell_type": "markdown",
   "id": "ae9d32b0-3eb5-40b5-98ca-6109c909ac7f",
   "metadata": {},
   "source": [
    "- Although there are no more Null values in the data, there are still several columns that need to be corrected because they have some unusual values that do not match the context as previously discussed."
   ]
  },
  {
   "cell_type": "markdown",
   "id": "97cdbc6f-e9e2-4aee-a665-450ba891f369",
   "metadata": {},
   "source": [
    "## Handling Error Values - Numerical Datatype"
   ]
  },
  {
   "cell_type": "code",
   "execution_count": null,
   "id": "7ff8c995-a10f-4a84-a2e9-8c38a9a545a6",
   "metadata": {},
   "outputs": [],
   "source": [
    "df.describe()"
   ]
  },
  {
   "cell_type": "code",
   "execution_count": null,
   "id": "8674bd49-edde-4222-831d-b4eeb4f0dfdb",
   "metadata": {},
   "outputs": [],
   "source": [
    "Error_Value_Columns = ['Total_EMI_per_month', 'Num_of_Loan', 'Interest_Rate', 'Num_Credit_Card', \n",
    "                       'Num_Bank_Accounts', 'Annual_Income', 'Age', 'Delay_from_due_date']\n",
    "\n",
    "for col in Error_Value_Columns:\n",
    "    print(col)"
   ]
  },
  {
   "cell_type": "markdown",
   "id": "9dd6882e-be7e-4edd-8653-8810d1bc1e9a",
   "metadata": {},
   "source": [
    "- The data cleaning process will use the same function as in the previous process."
   ]
  },
  {
   "cell_type": "markdown",
   "id": "82b042d3-f184-4c41-a0c9-d61a46d3bbae",
   "metadata": {},
   "source": [
    "### `Total_EMI_per_month`"
   ]
  },
  {
   "cell_type": "markdown",
   "id": "57e87c26-eb6f-456f-a04b-aca01173d306",
   "metadata": {},
   "source": [
    "- `Total_EMI_per_month` is the total monthly installment amount (including interest) that a person has to pay for all their loans or credits in a month. EMI stands for Equated Monthly Installment, which is typically used to pay off loans such as car loans or home loans."
   ]
  },
  {
   "cell_type": "code",
   "execution_count": null,
   "id": "1488672a-9ab2-4dc6-a420-54877b98a0ce",
   "metadata": {},
   "outputs": [],
   "source": [
    "Reassign_Group_Numeric_Wrong_Values(df, 'Customer_ID', 'Total_EMI_per_month')"
   ]
  },
  {
   "cell_type": "markdown",
   "id": "dc9dc5c0-578d-495f-83a4-2d5acbcd4c2b",
   "metadata": {},
   "source": [
    "### `Num_of_Loan`"
   ]
  },
  {
   "cell_type": "markdown",
   "id": "2716acca-6f95-4cb2-9c16-3fc3bf97c447",
   "metadata": {},
   "source": [
    "- `Num_of_Loan` represents the number of loans taken by each individual in the dataset."
   ]
  },
  {
   "cell_type": "code",
   "execution_count": null,
   "id": "9d359765-f606-4a83-88f3-9e89611689a4",
   "metadata": {},
   "outputs": [],
   "source": [
    "Reassign_Group_Numeric_Wrong_Values(df, 'Customer_ID', 'Num_of_Loan')"
   ]
  },
  {
   "cell_type": "markdown",
   "id": "493024e3-d629-4c95-a4da-32929f1ea643",
   "metadata": {},
   "source": [
    "### `Interest_Rate`"
   ]
  },
  {
   "cell_type": "markdown",
   "id": "db6346af-fbe3-4d30-a691-d3232d8f8197",
   "metadata": {},
   "source": [
    "- `Interest_Rate` represents the interest rate charged on a loan. It is usually expressed as a percentage of the total loan amount and is the additional amount that a borrower has to pay on top of the principal amount borrowed."
   ]
  },
  {
   "cell_type": "code",
   "execution_count": null,
   "id": "a85622fb-8e2a-4dfd-8473-8b7a690117e4",
   "metadata": {},
   "outputs": [],
   "source": [
    "Reassign_Group_Numeric_Wrong_Values(df, 'Customer_ID', 'Interest_Rate')"
   ]
  },
  {
   "cell_type": "markdown",
   "id": "715dc14e-1767-4772-ad10-f7239270da64",
   "metadata": {},
   "source": [
    "### `Num_Credit_Card`"
   ]
  },
  {
   "cell_type": "markdown",
   "id": "e1aac268-acdb-4b69-b090-e065f4382c44",
   "metadata": {},
   "source": [
    "- `Num_Credit_Card` represents the number of credit cards that the individual has."
   ]
  },
  {
   "cell_type": "code",
   "execution_count": null,
   "id": "6cfb8cbd-6349-43c6-a8b1-b964e27b40e5",
   "metadata": {},
   "outputs": [],
   "source": [
    "Reassign_Group_Numeric_Wrong_Values(df, 'Customer_ID', 'Num_Credit_Card')"
   ]
  },
  {
   "cell_type": "markdown",
   "id": "dbd16104-d977-4ca7-9ae8-1f8439a91739",
   "metadata": {},
   "source": [
    "### `Num_Bank_Accounts`"
   ]
  },
  {
   "cell_type": "markdown",
   "id": "20aae055-7380-4d44-b46a-d2d1cb19b819",
   "metadata": {},
   "source": [
    "- `Num_Bank_Accounts` represents the number of bank accounts that the borrower has."
   ]
  },
  {
   "cell_type": "code",
   "execution_count": null,
   "id": "1e4508ce-f7f4-49f8-bffb-8e7189903d73",
   "metadata": {},
   "outputs": [],
   "source": [
    "Reassign_Group_Numeric_Wrong_Values(df, 'Customer_ID', 'Num_Bank_Accounts')"
   ]
  },
  {
   "cell_type": "markdown",
   "id": "1fb2cc64-54a1-44df-8a07-348f1981f110",
   "metadata": {},
   "source": [
    "### `Annual_Income`"
   ]
  },
  {
   "cell_type": "markdown",
   "id": "af1b37c1-930b-491d-944c-36fd4cbe4a1f",
   "metadata": {},
   "source": [
    "- `Annual_Income` is the annual income of individuals or entities. It is typically expressed in a numerical value and represents the total amount of money earned by a person or business in a given year."
   ]
  },
  {
   "cell_type": "code",
   "execution_count": null,
   "id": "bb5a04e6-5985-4186-91cc-cb3cc11474b2",
   "metadata": {},
   "outputs": [],
   "source": [
    "Reassign_Group_Numeric_Wrong_Values(df, 'Customer_ID', 'Annual_Income')"
   ]
  },
  {
   "cell_type": "markdown",
   "id": "38ca2297-c906-4090-b74c-6d89ae0f59e2",
   "metadata": {},
   "source": [
    "### `Age`"
   ]
  },
  {
   "cell_type": "markdown",
   "id": "d520ba34-2521-4c7e-bbe9-666df946f5f8",
   "metadata": {},
   "source": [
    "- `Age` refers to the chronological age of the borrower, measured in years. "
   ]
  },
  {
   "cell_type": "code",
   "execution_count": null,
   "id": "f9369155-ad6f-4289-bcd5-21f818707326",
   "metadata": {},
   "outputs": [],
   "source": [
    "Reassign_Group_Numeric_Wrong_Values(df, 'Customer_ID', 'Age')"
   ]
  },
  {
   "cell_type": "markdown",
   "id": "6dc958c1-52d8-41f3-83b5-39c556e964a2",
   "metadata": {},
   "source": [
    "### `Delay_from_due_date`"
   ]
  },
  {
   "cell_type": "markdown",
   "id": "9fb03209-a470-45cc-82ca-af153128be44",
   "metadata": {},
   "source": [
    "- `Delay_from_due_date` is the number of days of delay from the due date of a payment.\n",
    "- At first, this column had a maximum value that was still considered reasonable, but because it had a value of -5 where there was already -1, it felt quite strange for the Delay column which usually has a positive value conversion to explain the number of days of delay from the due date."
   ]
  },
  {
   "cell_type": "code",
   "execution_count": null,
   "id": "41ce0797-3a92-4ada-bea5-5e5d54aaac0c",
   "metadata": {},
   "outputs": [],
   "source": [
    "Reassign_Group_Numeric_Wrong_Values(df, 'Customer_ID', 'Delay_from_due_date')"
   ]
  },
  {
   "cell_type": "markdown",
   "id": "70bb3dea-3cbb-4328-a99e-1b092649d79f",
   "metadata": {},
   "source": [
    "### Final Check - 3"
   ]
  },
  {
   "cell_type": "code",
   "execution_count": null,
   "id": "887ffca3-f8c7-4335-b85e-f6ccaa44b704",
   "metadata": {},
   "outputs": [],
   "source": [
    "df.info()"
   ]
  },
  {
   "cell_type": "markdown",
   "id": "f470c49b-a828-4d8e-b960-894fc6a652ca",
   "metadata": {},
   "source": [
    "- The cleaning process is almost complete. However, there are still some things that need to be changed, namely the `maximum` value of `Amount_invested_monthly` and the `minimum` value of `Monthly_Balance` which are suspected to be `global outliers` or may be due to human error."
   ]
  },
  {
   "cell_type": "markdown",
   "id": "a029ef41-eba3-43bc-9ed3-e4cdbbf85bf6",
   "metadata": {},
   "source": [
    "## Handling Outliers"
   ]
  },
  {
   "cell_type": "code",
   "execution_count": null,
   "id": "660b63f5-4bdb-49b0-9b84-cb35e60bd4ca",
   "metadata": {},
   "outputs": [],
   "source": [
    "numerical_features = df.select_dtypes(include=np.number).columns.tolist()\n",
    "print(numerical_features)\n",
    "print('')\n",
    "print('Total Numerical Features:',len(numerical_features))"
   ]
  },
  {
   "cell_type": "code",
   "execution_count": null,
   "id": "17341e12-2c93-47e5-aeca-f7a7823fdb99",
   "metadata": {},
   "outputs": [],
   "source": [
    "fig, axs = plt.subplots(nrows=4, ncols=5, figsize=(20,10))\n",
    "\n",
    "for i, col in enumerate(numerical_features):\n",
    "    sns.boxplot(x=df[col], color='g', ax=axs[i//5, i%5])\n",
    "    \n",
    "plt.tight_layout()\n",
    "plt.show()"
   ]
  },
  {
   "cell_type": "markdown",
   "id": "ff9cb0df-07f7-4b67-a14d-b2640e5a8503",
   "metadata": {},
   "source": [
    "### `Amount_invested_monthly` - 2"
   ]
  },
  {
   "cell_type": "code",
   "execution_count": null,
   "id": "38f306e3-4962-4676-a24e-eef84bdce703",
   "metadata": {},
   "outputs": [],
   "source": [
    "df[df['Amount_invested_monthly'] > 8000]"
   ]
  },
  {
   "cell_type": "code",
   "execution_count": null,
   "id": "6447aed2-0685-420c-aaba-ed76dc78c70d",
   "metadata": {},
   "outputs": [],
   "source": [
    "df.loc[df['Amount_invested_monthly'] > 8000, 'Customer_ID'].nunique()"
   ]
  },
  {
   "cell_type": "code",
   "execution_count": null,
   "id": "31147193-5d6e-4b72-b783-25088042122c",
   "metadata": {},
   "outputs": [],
   "source": [
    "df.loc[df['Amount_invested_monthly'] > 8000, 'Customer_ID'].unique().tolist()"
   ]
  },
  {
   "cell_type": "code",
   "execution_count": null,
   "id": "9da98483-8005-495d-b1cc-2aeb6ab4b85b",
   "metadata": {},
   "outputs": [],
   "source": [
    "print('Customer_ID = 33982')\n",
    "print('-'*20)\n",
    "display(df[df['Customer_ID'] == 33982]['Amount_invested_monthly'])"
   ]
  },
  {
   "cell_type": "markdown",
   "id": "22e1a28e-bf29-4015-a723-6b5a533ab800",
   "metadata": {},
   "source": [
    "- From the data, it is apparent that there is a value that is significantly higher than the others. In real-life contexts, this can happen, especially when no one knows a person's financial situation specifically. However, to avoid inaccurate models for the entire dataset, outliers like this need to be handled to improve the data distribution.\n",
    "- The method I chose is to handle outliers with a robust method or to replace the value with the median value of each data group based on each `Customer_ID`.\n",
    "- I am aware that filtering outliers using the IQR method cannot be applied to all data per `Customer_ID` group, considering that the example above only has 4 out of 12 data per customer with invalid values, which means those values fall into Q3.\n",
    "- Therefore, I directly filtered each number `above 8000` (obtained from the previous boxplot visualization) to be replaced with the median per `Customer_ID` group."
   ]
  },
  {
   "cell_type": "code",
   "execution_count": null,
   "id": "adb8694f-33bd-425a-bc12-72c1358c0ba2",
   "metadata": {},
   "outputs": [],
   "source": [
    "grouped = df.groupby('Customer_ID')\n",
    "\n",
    "# Loop through each Customer_ID group\n",
    "for name, group in grouped:\n",
    "    # Determining median (excluding values greater than 8000)\n",
    "    median = group.loc[group['Amount_invested_monthly'] <= 8000, 'Amount_invested_monthly'].median()\n",
    "    \n",
    "    # Replacing values greater than 8000 with median value\n",
    "    group.loc[group['Amount_invested_monthly'] > 8000, 'Amount_invested_monthly'] = median\n",
    "    \n",
    "    # Saving changes to the DataFrame\n",
    "    df.loc[group.index] = group"
   ]
  },
  {
   "cell_type": "code",
   "execution_count": null,
   "id": "02321a01-76e1-4fd5-8034-a8cdaa6505c8",
   "metadata": {},
   "outputs": [],
   "source": [
    "print('Customer_ID = 33982')\n",
    "print('-'*20)\n",
    "display(df[df['Customer_ID'] == 33982]['Amount_invested_monthly'])"
   ]
  },
  {
   "cell_type": "markdown",
   "id": "c47f7db2-2c64-4f88-856d-98acece11e5e",
   "metadata": {},
   "source": [
    "### `Monthly_Balance` - 2"
   ]
  },
  {
   "cell_type": "code",
   "execution_count": null,
   "id": "b66eca9e-7650-463d-b84d-d7b51bbc5142",
   "metadata": {},
   "outputs": [],
   "source": [
    "df[df['Monthly_Balance'] < 0]"
   ]
  },
  {
   "cell_type": "code",
   "execution_count": null,
   "id": "b665c323-34de-47b5-bb47-b00b04779b45",
   "metadata": {},
   "outputs": [],
   "source": [
    "df.loc[df['Monthly_Balance'] < 0, 'Customer_ID'].unique()"
   ]
  },
  {
   "cell_type": "code",
   "execution_count": null,
   "id": "e4551f28-7dff-44a1-ad7b-ac070de36cd6",
   "metadata": {},
   "outputs": [],
   "source": [
    "df[df['Customer_ID'] == 39045]['Monthly_Balance']"
   ]
  },
  {
   "cell_type": "markdown",
   "id": "efc5a8b8-3d71-4852-803c-2b0afb644683",
   "metadata": {},
   "source": [
    "- The data at `index 5545` above is clearly invalid. The feature `Monthly_Balance` cannot have a negative value. This is also not a labeling error, considering the exponential value behind it is significantly larger than the other values.\n",
    "- The same robust method as before will be used to replace the outlier data assumed to be invalid data. However, this time outliers will be filtered using the IQR method to have a clearer basis."
   ]
  },
  {
   "cell_type": "code",
   "execution_count": null,
   "id": "2aecd9b5-8f6d-41dc-b4eb-6bdd18a62547",
   "metadata": {},
   "outputs": [],
   "source": [
    "grouped = df.groupby('Customer_ID')\n",
    "\n",
    "# Loop through each Customer_ID group\n",
    "for name, group in grouped:\n",
    "    # Determining IQR\n",
    "    Q1 = group['Monthly_Balance'].quantile(0.25)\n",
    "    Q3 = group['Monthly_Balance'].quantile(0.75)\n",
    "    IQR = Q3 - Q1\n",
    "    \n",
    "    # Replacing outlier values with median values\n",
    "    group.loc[group['Monthly_Balance'] > Q3 + 1.5*IQR, 'Monthly_Balance'] = group['Monthly_Balance'].median()\n",
    "    group.loc[group['Monthly_Balance'] < Q1 - 1.5*IQR, 'Monthly_Balance'] = group['Monthly_Balance'].median()\n",
    "    \n",
    "    # Saving changes to the DataFrame\n",
    "    df.loc[group.index] = group"
   ]
  },
  {
   "cell_type": "code",
   "execution_count": null,
   "id": "0f731ff1-c57e-4bfc-a3bb-5503e8503830",
   "metadata": {},
   "outputs": [],
   "source": [
    "df[df['Customer_ID'] == 39045]['Monthly_Balance']"
   ]
  },
  {
   "cell_type": "markdown",
   "id": "0c15c59a-d743-45fc-8893-d064b1beacf4",
   "metadata": {},
   "source": [
    "### Final Check - 4"
   ]
  },
  {
   "cell_type": "code",
   "execution_count": null,
   "id": "a0d6115a-9d2f-477e-8c9f-65a93f6733cc",
   "metadata": {},
   "outputs": [],
   "source": [
    "fig, axs = plt.subplots(nrows=4, ncols=5, figsize=(20,10))\n",
    "\n",
    "for i, col in enumerate(numerical_features):\n",
    "    sns.boxplot(x=df[col], color='g', ax=axs[i//5, i%5])\n",
    "    \n",
    "plt.tight_layout()\n",
    "plt.show()"
   ]
  },
  {
   "cell_type": "code",
   "execution_count": null,
   "id": "8eed390e-b49a-43cc-808c-10afd3195ca2",
   "metadata": {},
   "outputs": [],
   "source": [
    "df.shape"
   ]
  },
  {
   "cell_type": "markdown",
   "id": "ef513116-7f1f-4a96-a26d-816cd41ceff3",
   "metadata": {},
   "source": [
    "# EDA (EXPLORATORY DATA ANALYSIS)"
   ]
  },
  {
   "cell_type": "code",
   "execution_count": null,
   "id": "f85f6df2-d247-430d-bd17-42e53c2366fb",
   "metadata": {},
   "outputs": [],
   "source": [
    "train_data = df[df['Credit_Score'].notnull()]\n",
    "test_data = df[df['Credit_Score'].isnull()]\n",
    "\n",
    "print('Total train set:', train_data.shape)\n",
    "print('Total test set:', test_data.shape)"
   ]
  },
  {
   "cell_type": "code",
   "execution_count": null,
   "id": "ba08e5ae-e7b6-4cf0-9d5d-baa00caa0b9b",
   "metadata": {},
   "outputs": [],
   "source": [
    "train_data.sample(3)"
   ]
  },
  {
   "cell_type": "code",
   "execution_count": null,
   "id": "d6e9c6d3-0456-4ab5-9f41-263f5cccb8cd",
   "metadata": {},
   "outputs": [],
   "source": [
    "test_data.sample(3)"
   ]
  },
  {
   "cell_type": "code",
   "execution_count": null,
   "id": "8954a6d9-ec8a-43c5-b9cc-b251feba5f76",
   "metadata": {},
   "outputs": [],
   "source": [
    "train_data.info()"
   ]
  },
  {
   "cell_type": "markdown",
   "id": "ab77705b-bcbc-4e24-ac22-739542ed7e6b",
   "metadata": {},
   "source": [
    "\n",
    "Untuk melakukan EDA dengan menggunakan line chart, scatter plot, dan barplot, berikut beberapa rekomendasi antar kolom yang bisa dipertimbangkan:\n",
    "\n",
    "Line Chart:\n",
    "- Monthly_Inhand_Salary berdasarkan bulan (Month)\n",
    "- Amount_invested_monthly berdasarkan bulan (Month)\n",
    "- Credit_Score berdasarkan bulan (Month)\n",
    "\n",
    "Scatter Plot:\n",
    "- Monthly_Inhand_Salary vs Annual_Income\n",
    "- Monthly_Balance vs Outstanding_Debt\n",
    "- Amount_invested_monthly vs Total_EMI_per_month\n",
    "\n",
    "Barplot:\n",
    "- Num_Credit_Card berdasarkan Type_of_Loan\n",
    "- Num_of_Loan berdasarkan Type_of_Loan\n",
    "- Payment_of_Min_Amount berdasarkan Payment_Behaviour\n",
    "\n",
    "Namun demikian, rekomendasi antar kolom tersebut bisa disesuaikan dengan tujuan EDA dan pertanyaan yang ingin dijawab dari data tersebut."
   ]
  },
  {
   "cell_type": "markdown",
   "id": "4ee1f0ac-2cb4-450c-8752-be72226cfa8b",
   "metadata": {},
   "source": [
    "Beberapa contoh pertanyaan bisnis yang sering ingin dijawab dengan proyek machine learning credit scoring adalah:\n",
    "\n",
    "- Bagaimana cara meningkatkan akurasi dalam menilai risiko kredit?\n",
    "- Apa faktor-faktor yang paling mempengaruhi kemungkinan seseorang gagal membayar kredit?\n",
    "- Bagaimana cara meminimalkan risiko default pada pemberian kredit?\n",
    "- Apakah terdapat bias dalam model credit scoring dan bagaimana cara mengurangi atau menghilangkan bias tersebut?\n",
    "- Bagaimana memprediksi apakah calon peminjam akan membayar kembali pinjaman tepat waktu atau tidak?\n",
    "- Bagaimana cara memperkirakan besarnya risiko default untuk masing-masing pelanggan?\n",
    "- Apakah ada pola atau hubungan antara karakteristik pelanggan dengan kemampuan mereka untuk membayar pinjaman?\n",
    "- Bagaimana cara memilih metode pembelajaran mesin yang paling cocok untuk memprediksi kemampuan seseorang dalam membayar kredit?\n",
    "- Bagaimana cara menentukan ukuran sampel yang optimal untuk model credit scoring?\n",
    "- Bagaimana cara mengukur kinerja model credit scoring dan bagaimana cara meningkatkan performa model tersebut?"
   ]
  },
  {
   "cell_type": "markdown",
   "id": "8fcdaf3d-032f-43a6-96ef-138b78fd8a26",
   "metadata": {},
   "source": [
    "-----"
   ]
  },
  {
   "cell_type": "markdown",
   "id": "dc154d36-1ec6-4c91-8c05-bf38b48fd860",
   "metadata": {},
   "source": [
    "Berikut adalah beberapa rekomendasi antara kolom untuk ditampilkan dalam proses EDA insight sebelum melakukan preprocessing ML untuk menjawab pertanyaan \"Bagaimana cara meminimalkan risiko default pada pemberian kredit?\":\n",
    "\n",
    "Line chart\n",
    "\n",
    "- \"Credit_History_Age\" dan \"Credit_Score\"\n",
    "Alasan: Dengan menampilkan hubungan antara usia kredit dan skor kredit, kita dapat melihat bagaimana umur kredit memengaruhi risiko default pada pemberian kredit.\n",
    "\n",
    "- \"Monthly_Inhand_Salary\" dan \"Total_EMI_per_month\"\n",
    "Alasan: Dengan menampilkan hubungan antara gaji bersih bulanan dan total EMI per bulan, kita dapat melihat bagaimana kemampuan pembayaran peminjam memengaruhi risiko default pada pemberian kredit.\n",
    "\n",
    "Scatter plot \n",
    "- \"Credit_Utilization_Ratio\" dan \"Credit_Score\"\n",
    "Alasan: Dengan menampilkan hubungan antara rasio penggunaan kredit dan skor kredit, kita dapat melihat bagaimana penggunaan kredit memengaruhi risiko default pada pemberian kredit.\n",
    "\n",
    "- \"Outstanding_Debt\" dan \"Num_of_Delayed_Payment\"\n",
    "Alasan: Dengan menampilkan hubungan antara hutang yang masih harus dibayar dan jumlah pembayaran yang tertunda, kita dapat melihat bagaimana situasi keuangan peminjam memengaruhi risiko default pada pemberian kredit.\n",
    "\n",
    "Barplot\n",
    "- \"Type_of_Loan\" dan \"Interest_Rate\"\n",
    "Alasan: Dengan menampilkan perbedaan suku bunga antara jenis pinjaman yang berbeda, kita dapat melihat bagaimana risiko default pada jenis pinjaman yang berbeda dapat mempengaruhi suku bunga yang ditetapkan.\n",
    "\n",
    "- \"Payment_Behaviour\" dan \"Num_of_Delayed_Payment\"\n",
    "Alasan: Dengan menampilkan jumlah pembayaran yang tertunda untuk setiap perilaku pembayaran, kita dapat melihat bagaimana perilaku pembayaran memengaruhi risiko default pada pemberian kredit."
   ]
  },
  {
   "cell_type": "code",
   "execution_count": null,
   "id": "790b4d5b-36e0-47c7-b501-48afd4e23926",
   "metadata": {},
   "outputs": [],
   "source": []
  },
  {
   "cell_type": "code",
   "execution_count": null,
   "id": "652b7a9c-77b1-4c8b-85bb-d304b21dd555",
   "metadata": {},
   "outputs": [],
   "source": []
  },
  {
   "cell_type": "markdown",
   "id": "426fe368-ecc0-4a25-bcbc-b6e042a5b6f9",
   "metadata": {},
   "source": [
    "## WOE and IV"
   ]
  },
  {
   "cell_type": "code",
   "execution_count": null,
   "id": "e5fb8c75-e04d-4768-befe-e5cff2a8cd7c",
   "metadata": {},
   "outputs": [],
   "source": []
  },
  {
   "cell_type": "code",
   "execution_count": null,
   "id": "548c7278-c6e1-42b9-b38b-2081ee83af20",
   "metadata": {},
   "outputs": [],
   "source": []
  },
  {
   "cell_type": "markdown",
   "id": "9be3df0b-64ee-47dc-9e0c-54239a9af149",
   "metadata": {},
   "source": [
    "# MODELLING"
   ]
  },
  {
   "cell_type": "markdown",
   "id": "03549037-1cd6-42ac-89af-72d970a13b18",
   "metadata": {},
   "source": [
    "- In a credit scoring dataset, the Credit_Score feature is the target of classification. Therefore, the dataset will be divided into X and y where X is the predictor features and y is the target."
   ]
  },
  {
   "cell_type": "markdown",
   "id": "90019f9b-06a3-4b23-95d6-d5794a7ade1d",
   "metadata": {},
   "source": [
    "## Split Dataset"
   ]
  },
  {
   "cell_type": "markdown",
   "id": "0cd7f5b9-864d-4b78-933b-1b6a255e8d76",
   "metadata": {},
   "source": [
    "- The data that will be used will be divided into train and test sets. However, the division will still be sourced from the `train_data` in which the target feature `Credit_Score` <B>is not null</B>. \n",
    "- This is because if `test_data` is used for X_test and y_test, it <B>will not produce any evaluation</B>. The `test_data` data will be used when we really want to predict the output assuming that the data is new data from each customer whose `Credit_Score` is to be predicted."
   ]
  },
  {
   "cell_type": "code",
   "execution_count": null,
   "id": "6d84462a-671d-4ea0-aec7-c18402d1ddd0",
   "metadata": {},
   "outputs": [],
   "source": [
    "from sklearn.model_selection import train_test_split\n",
    "\n",
    "X = train_data.drop('Credit_Score', axis=1)\n",
    "y = train_data['Credit_Score']\n",
    "X_train, X_test, y_train, y_test = train_test_split(X, y, test_size=0.3, random_state=69)"
   ]
  },
  {
   "cell_type": "code",
   "execution_count": 96,
   "id": "244dae71-b469-43b3-8110-548f41fda2a6",
   "metadata": {},
   "outputs": [
    {
     "name": "stdout",
     "output_type": "stream",
     "text": [
      "X_train : (70000, 27)\n",
      "y_train : (70000,)\n",
      "--------------------\n",
      "X_test : (30000, 27)\n",
      "y_test : (30000,)\n",
      "====================\n",
      "Total y_train\n"
     ]
    },
    {
     "data": {
      "text/plain": [
       "Standard    37267\n",
       "Poor        20265\n",
       "Good        12468\n",
       "Name: Credit_Score, dtype: int64"
      ]
     },
     "metadata": {},
     "output_type": "display_data"
    },
    {
     "name": "stdout",
     "output_type": "stream",
     "text": [
      "--------------------\n",
      "Total y_test\n"
     ]
    },
    {
     "data": {
      "text/plain": [
       "Standard    15907\n",
       "Poor         8733\n",
       "Good         5360\n",
       "Name: Credit_Score, dtype: int64"
      ]
     },
     "metadata": {},
     "output_type": "display_data"
    }
   ],
   "source": [
    "print('X_train :', X_train.shape)\n",
    "print('y_train :', y_train.shape)\n",
    "print('-'*20)\n",
    "print('X_test :', X_test.shape)\n",
    "print('y_test :', y_test.shape)\n",
    "print('='*20)\n",
    "print('Total y_train')\n",
    "display(y_train.value_counts())\n",
    "print('-'*20)\n",
    "print('Total y_test')\n",
    "display(y_test.value_counts())"
   ]
  },
  {
   "cell_type": "code",
   "execution_count": null,
   "id": "77068785-c519-4b41-84f4-e95c754a86a4",
   "metadata": {},
   "outputs": [],
   "source": []
  },
  {
   "cell_type": "markdown",
   "id": "71a2f372-8f48-4015-ad86-8fe39ca8d124",
   "metadata": {},
   "source": [
    "## PreProcessing"
   ]
  },
  {
   "cell_type": "code",
   "execution_count": null,
   "id": "c380ee6d-00da-43a9-be7e-7121fa3146a4",
   "metadata": {},
   "outputs": [],
   "source": [
    "categorical_features = X.select_dtypes(include=['object']).columns\n",
    "numerical_features = X.select_dtypes(include=['int32', 'int64', 'float64']).columns"
   ]
  },
  {
   "cell_type": "code",
   "execution_count": null,
   "id": "8bb73d38-46a8-402f-a347-e1ef8bf88eed",
   "metadata": {},
   "outputs": [],
   "source": []
  },
  {
   "cell_type": "code",
   "execution_count": null,
   "id": "828f3666-9f93-442b-a3c4-b2d8fcef60bc",
   "metadata": {},
   "outputs": [],
   "source": []
  },
  {
   "cell_type": "code",
   "execution_count": null,
   "id": "ea08e57c-934b-4a92-847e-f08096996189",
   "metadata": {},
   "outputs": [],
   "source": []
  },
  {
   "cell_type": "markdown",
   "id": "337e02b3-2d9f-419e-b771-6c691e2c77e5",
   "metadata": {},
   "source": [
    "---"
   ]
  },
  {
   "cell_type": "markdown",
   "id": "b0ab376d-5a6c-4019-a414-69459b2c1e29",
   "metadata": {},
   "source": []
  },
  {
   "cell_type": "code",
   "execution_count": 95,
   "id": "33b659e2-f8d5-45de-80c8-6d0259165426",
   "metadata": {},
   "outputs": [],
   "source": [
    "X_try = test_data.drop('Credit_Score', axis=1)\n",
    "y_try = test_data['Credit_Score']"
   ]
  },
  {
   "cell_type": "code",
   "execution_count": 96,
   "id": "a62883d8-6451-4930-b022-97a24f921ec2",
   "metadata": {},
   "outputs": [
    {
     "name": "stdout",
     "output_type": "stream",
     "text": [
      "X_test : (50000, 27)\n",
      "y_test : (50000,)\n",
      "--------------------\n"
     ]
    },
    {
     "data": {
      "text/plain": [
       "Series([], Name: Credit_Score, dtype: int64)"
      ]
     },
     "metadata": {},
     "output_type": "display_data"
    }
   ],
   "source": [
    "print('X_test :', X_test.shape)\n",
    "print('y_test :', y_test.shape)\n",
    "print('-'*20)\n",
    "display(y_test.value_counts())"
   ]
  }
 ],
 "metadata": {
  "kernelspec": {
   "display_name": "Python 3 (ipykernel)",
   "language": "python",
   "name": "python3"
  },
  "language_info": {
   "codemirror_mode": {
    "name": "ipython",
    "version": 3
   },
   "file_extension": ".py",
   "mimetype": "text/x-python",
   "name": "python",
   "nbconvert_exporter": "python",
   "pygments_lexer": "ipython3",
   "version": "3.9.12"
  }
 },
 "nbformat": 4,
 "nbformat_minor": 5
}
